{
 "cells": [
  {
   "cell_type": "code",
   "execution_count": 8,
   "metadata": {
    "collapsed": false
   },
   "outputs": [
    {
     "name": "stdout",
     "output_type": "stream",
     "text": [
      "Trying to log in\n",
      "{\"id\":54280,\"forename\":\"Michael\",\"surname\":\"Smith\",\"username\":\"lionfish_pynbn\",\"email\":\"m.t.smith@sheffield.ac.uk\",\"phone\":\"07958461290\",\"registrationDate\":1456420914433,\"allowEmailAlerts\":false,\"subscribedToAdminMails\":false,\"subscribedToNBNMarketting\":false,\"active\":false}\n",
      "Connected\n"
     ]
    }
   ],
   "source": [
    "import pynbn\n",
    "c = pynbn.connect('lionfish_pynbn','password')"
   ]
  },
  {
   "cell_type": "code",
   "execution_count": 9,
   "metadata": {
    "collapsed": false
   },
   "outputs": [
    {
     "name": "stdout",
     "output_type": "stream",
     "text": [
      "https://data.nbn.org.uk/api/taxonObservations?ptvk=NHMSYS0000875475&startYear=1990&endYear=1991\n"
     ]
    }
   ],
   "source": [
    "obs = c.get_observations(tvks=['NHMSYS0000875475'], start_year=1990, end_year=1991)"
   ]
  },
  {
   "cell_type": "code",
   "execution_count": 10,
   "metadata": {
    "collapsed": false
   },
   "outputs": [
    {
     "data": {
      "text/plain": [
       "401"
      ]
     },
     "execution_count": 10,
     "metadata": {},
     "output_type": "execute_result"
    }
   ],
   "source": [
    "len(obs)"
   ]
  },
  {
   "cell_type": "code",
   "execution_count": 36,
   "metadata": {
    "collapsed": false
   },
   "outputs": [],
   "source": [
    "import numpy as np\n",
    "import bng\n",
    "\n",
    "coords = []\n",
    "resolutions = []\n",
    "for o in obs:\n",
    "    res = None\n",
    "    try:\n",
    "        for temp in range(1,10):\n",
    "            res = int(o['resolution'][0:temp])\n",
    "    except:\n",
    "        pass\n",
    "    resolutions.append(res)\n",
    "    try:\n",
    "        coords.append(bng.grid_ref_str_to_easting_northing(o['location']))\n",
    "    except IndexError:\n",
    "        pass"
   ]
  },
  {
   "cell_type": "code",
   "execution_count": 45,
   "metadata": {
    "collapsed": false
   },
   "outputs": [
    {
     "name": "stdout",
     "output_type": "stream",
     "text": [
      "0.301029995664\n"
     ]
    },
    {
     "data": {
      "image/png": "[encoded data removed]",
      "text/plain": [
       "<matplotlib.figure.Figure at 0x7f713914b310>"
      ]
     },
     "metadata": {},
     "output_type": "display_data"
    }
   ],
   "source": [
    "plt.hist(np.log10(resolutions),100);\n",
    "plt.xlabel('Log base 10 Resolution (km)')\n",
    "print(np.log10(2.0))"
   ]
  },
  {
   "cell_type": "code",
   "execution_count": 12,
   "metadata": {
    "collapsed": false
   },
   "outputs": [],
   "source": [
    "import matplotlib.pyplot as plt\n",
    "%matplotlib inline\n",
    "\n",
    "c = np.array(coords)"
   ]
  },
  {
   "cell_type": "code",
   "execution_count": 46,
   "metadata": {
    "collapsed": false
   },
   "outputs": [
    {
     "data": {
      "text/plain": [
       "[<matplotlib.lines.Line2D at 0x7f7138e97550>]"
      ]
     },
     "execution_count": 46,
     "metadata": {},
     "output_type": "execute_result"
    },
    {
     "data": {
      "image/png": "[encoded data removed]",
      "text/plain": [
       "<matplotlib.figure.Figure at 0x7f71391f29d0>"
      ]
     },
     "metadata": {},
     "output_type": "display_data"
    }
   ],
   "source": [
    "fig, ax = plt.subplots(figsize=(10, 10))\n",
    "ax.plot(c[:,0],c[:,1],'.')\n",
    "#plt.xlim([400,500])\n",
    "#plt.ylim([200,300])"
   ]
  },
  {
   "cell_type": "code",
   "execution_count": null,
   "metadata": {
    "collapsed": true
   },
   "outputs": [],
   "source": [
    "import GPy"
   ]
  },
  {
   "cell_type": "code",
   "execution_count": null,
   "metadata": {
    "collapsed": false
   },
   "outputs": [],
   "source": [
    "res"
   ]
  },
  {
   "cell_type": "code",
   "execution_count": null,
   "metadata": {
    "collapsed": false
   },
   "outputs": [],
   "source": [
    "#'Volucella bombylans\n",
    "sp = c.get_tvk(query='Bombus terrestris') #Volucella bombylans') #Volucella bombylans') #get species with 'Bombus' in...\n",
    "keys = []\n",
    "for res in sp['results']:\n",
    "    k = res['ptaxonVersionKey']\n",
    "    keys.append(str(k)) #get their keys....\n",
    "print keys\n",
    "obs = c.get_observations(tvks=[keys[0]], start_year=1990, end_year=2010) #get observations\n",
    "print len(obs)"
   ]
  },
  {
   "cell_type": "code",
   "execution_count": null,
   "metadata": {
    "collapsed": false
   },
   "outputs": [],
   "source": [
    "obs = c.get_observations(tvks=['NBNSYS0000037346'], start_year=1990, end_year=2010) #get observations"
   ]
  },
  {
   "cell_type": "code",
   "execution_count": null,
   "metadata": {
    "collapsed": false
   },
   "outputs": [],
   "source": [
    "len(obs)"
   ]
  },
  {
   "cell_type": "code",
   "execution_count": null,
   "metadata": {
    "collapsed": true
   },
   "outputs": [],
   "source": [
    "obs = c.get_observations(tvks=keys, start_year=1990, end_year=2010) #get observations"
   ]
  }
 ],
 "metadata": {
  "kernelspec": {
   "display_name": "Python 2",
   "language": "python",
   "name": "python2"
  },
  "language_info": {
   "codemirror_mode": {
    "name": "ipython",
    "version": 2
   },
   "file_extension": ".py",
   "mimetype": "text/x-python",
   "name": "python",
   "nbconvert_exporter": "python",
   "pygments_lexer": "ipython2",
   "version": "2.7.11"
  }
 },
 "nbformat": 4,
 "nbformat_minor": 0
}
