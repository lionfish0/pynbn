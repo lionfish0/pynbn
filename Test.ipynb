{
 "cells": [
  {
   "cell_type": "code",
   "execution_count": 1,
   "metadata": {
    "collapsed": false
   },
   "outputs": [
    {
     "name": "stdout",
     "output_type": "stream",
     "text": [
      "Trying to log in\n",
      "{\"id\":54280,\"forename\":\"Michael\",\"surname\":\"Smith\",\"username\":\"lionfish_pynbn\",\"email\":\"m.t.smith@sheffield.ac.uk\",\"phone\":\"07958461290\",\"registrationDate\":1456420914433,\"allowEmailAlerts\":false,\"subscribedToAdminMails\":false,\"subscribedToNBNMarketting\":false,\"active\":false}\n",
      "Connected\n"
     ]
    }
   ],
   "source": [
    "import pynbn\n",
    "c = pynbn.connect('lionfish_pynbn','password')"
   ]
  },
  {
   "cell_type": "code",
   "execution_count": 6,
   "metadata": {
    "collapsed": false
   },
   "outputs": [
    {
     "name": "stdout",
     "output_type": "stream",
     "text": [
      "https://data.nbn.org.uk/api/taxonObservations?ptvk=NBNSYS0000007094&ptvk=NBNSYS0000007095&datasetKey=SGB00001&startYear=1990&endYear=1991\n"
     ]
    }
   ],
   "source": [
    "obs = c.get_observations(tvks=['NBNSYS0000007094','NBNSYS0000007095'], start_year=1990, end_year=1991)"
   ]
  },
  {
   "cell_type": "code",
   "execution_count": 8,
   "metadata": {
    "collapsed": false
   },
   "outputs": [
    {
     "data": {
      "text/plain": [
       "383"
      ]
     },
     "execution_count": 8,
     "metadata": {},
     "output_type": "execute_result"
    }
   ],
   "source": [
    "len(obs)"
   ]
  },
  {
   "cell_type": "code",
   "execution_count": null,
   "metadata": {
    "collapsed": false
   },
   "outputs": [],
   "source": [
    "import numpy as np\n",
    "import bng\n",
    "\n",
    "coords = []\n",
    "for o in obs:\n",
    "    coords.append(bng.grid_ref_str_to_easting_northing(o['location']))\n"
   ]
  },
  {
   "cell_type": "code",
   "execution_count": null,
   "metadata": {
    "collapsed": false
   },
   "outputs": [],
   "source": [
    "import matplotlib.pyplot as plt\n",
    "%matplotlib inline\n",
    "\n",
    "c = np.array(coords)"
   ]
  },
  {
   "cell_type": "code",
   "execution_count": null,
   "metadata": {
    "collapsed": false
   },
   "outputs": [],
   "source": [
    "fig, ax = plt.subplots(figsize=(10, 10))\n",
    "ax.plot(c[:,0],c[:,1],'.')"
   ]
  },
  {
   "cell_type": "code",
   "execution_count": null,
   "metadata": {
    "collapsed": true
   },
   "outputs": [],
   "source": [
    "import GPy"
   ]
  },
  {
   "cell_type": "code",
   "execution_count": null,
   "metadata": {
    "collapsed": false
   },
   "outputs": [],
   "source": [
    "res"
   ]
  },
  {
   "cell_type": "code",
   "execution_count": 5,
   "metadata": {
    "collapsed": false
   },
   "outputs": [
    {
     "name": "stdout",
     "output_type": "stream",
     "text": [
      "https://data.nbn.org.uk/api/search/taxa?q=/Bombus terrestris\n",
      "['NHMSYS0000875475', 'NHMSYS0000875475', 'NHMSYS0000875477', 'NHMSYS0000875476', 'NHMSYS0000875477', 'NHMSYS0020772188', 'NHMSYS0000875476', 'NHMSYS0020546179', 'NHMSYS0000875471', 'NHMSYS0000875470', 'NHMSYS0000875474', 'NHMSYS0000875473', 'NHMSYS0001499618', 'NHMSYS0000875474', 'NHMSYS0020758435', 'NHMSYS0000875472', 'BMSSYS0000002872', 'NBNSYS0000008845', 'BMSSYS0000001794', 'NBNSYS0000008683', 'BMSSYS0000003768', 'NBNSYS0200003319', 'NHMSYS0020546253', 'NHMSYS0000604048', 'NHMSYS0001482759']\n",
      "https://data.nbn.org.uk/api/taxonObservations?ptvk=NHMSYS0000875475&datasetKey=SGB00001&startYear=1990&endYear=2010\n",
      "0\n"
     ]
    }
   ],
   "source": [
    "#'Volucella bombylans\n",
    "sp = c.get_tvk(query='Bombus terrestris') #Volucella bombylans') #Volucella bombylans') #get species with 'Bombus' in...\n",
    "keys = []\n",
    "for res in sp['results']:\n",
    "    k = res['ptaxonVersionKey']\n",
    "    keys.append(str(k)) #get their keys....\n",
    "print keys\n",
    "obs = c.get_observations(tvks=[keys[0]], start_year=1990, end_year=2010) #get observations\n",
    "print len(obs)"
   ]
  },
  {
   "cell_type": "code",
   "execution_count": 11,
   "metadata": {
    "collapsed": false
   },
   "outputs": [
    {
     "name": "stdout",
     "output_type": "stream",
     "text": [
      "https://data.nbn.org.uk/api/taxonObservations?ptvk=NHMSYS0000875475&datasetKey=SGB00001&startYear=1990&endYear=2010\n"
     ]
    }
   ],
   "source": [
    "obs = c.get_observations(tvks=['NHMSYS0000875475'], start_year=1990, end_year=2010) #get observations"
   ]
  },
  {
   "cell_type": "code",
   "execution_count": 12,
   "metadata": {
    "collapsed": false
   },
   "outputs": [
    {
     "data": {
      "text/plain": [
       "0"
      ]
     },
     "execution_count": 12,
     "metadata": {},
     "output_type": "execute_result"
    }
   ],
   "source": [
    "len(obs)"
   ]
  },
  {
   "cell_type": "code",
   "execution_count": null,
   "metadata": {
    "collapsed": true
   },
   "outputs": [],
   "source": []
  }
 ],
 "metadata": {
  "kernelspec": {
   "display_name": "Python 2",
   "language": "python",
   "name": "python2"
  },
  "language_info": {
   "codemirror_mode": {
    "name": "ipython",
    "version": 2
   },
   "file_extension": ".py",
   "mimetype": "text/x-python",
   "name": "python",
   "nbconvert_exporter": "python",
   "pygments_lexer": "ipython2",
   "version": "2.7.11"
  }
 },
 "nbformat": 4,
 "nbformat_minor": 0
}
