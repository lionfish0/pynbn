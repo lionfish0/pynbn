{
 "cells": [
  {
   "cell_type": "code",
   "execution_count": 1,
   "metadata": {
    "collapsed": false
   },
   "outputs": [
    {
     "name": "stdout",
     "output_type": "stream",
     "text": [
      "Trying to log in\n",
      "Connected\n"
     ]
    }
   ],
   "source": [
    "import pynbn\n",
    "c = pynbn.connect('lionfish_pynbn','')\n"
   ]
  },
  {
   "cell_type": "code",
   "execution_count": 2,
   "metadata": {
    "collapsed": false
   },
   "outputs": [
    {
     "name": "stdout",
     "output_type": "stream",
     "text": [
      "https://data.nbn.org.uk/api/taxonObservations?ptvk=NBNSYS0000007094&ptvk=NBNSYS0000007095&datasetKey=SGB00001&startYear=1990&endYear=1991\n"
     ]
    }
   ],
   "source": [
    "obs = c.get_observations(tvks=['NBNSYS0000007094','NBNSYS0000007095'], start_year=1990, end_year=1991)"
   ]
  },
  {
   "cell_type": "code",
   "execution_count": null,
   "metadata": {
    "collapsed": false
   },
   "outputs": [],
   "source": []
  },
  {
   "cell_type": "code",
   "execution_count": null,
   "metadata": {
    "collapsed": false
   },
   "outputs": [],
   "source": [
    "import numpy as np\n",
    "import bng\n",
    "\n",
    "coords = []\n",
    "for o in obs:\n",
    "    coords.append(bng.grid_ref_str_to_easting_northing(o['location']))\n"
   ]
  },
  {
   "cell_type": "code",
   "execution_count": null,
   "metadata": {
    "collapsed": false
   },
   "outputs": [],
   "source": [
    "import matplotlib.pyplot as plt\n",
    "%matplotlib inline\n",
    "\n",
    "c = np.array(coords)"
   ]
  },
  {
   "cell_type": "code",
   "execution_count": null,
   "metadata": {
    "collapsed": false
   },
   "outputs": [],
   "source": [
    "fig, ax = plt.subplots(figsize=(10, 10))\n",
    "ax.plot(c[:,0],c[:,1],'.')"
   ]
  },
  {
   "cell_type": "code",
   "execution_count": null,
   "metadata": {
    "collapsed": true
   },
   "outputs": [],
   "source": [
    "import GPy"
   ]
  },
  {
   "cell_type": "code",
   "execution_count": null,
   "metadata": {
    "collapsed": false
   },
   "outputs": [],
   "source": [
    "res"
   ]
  },
  {
   "cell_type": "code",
   "execution_count": 27,
   "metadata": {
    "collapsed": false
   },
   "outputs": [
    {
     "name": "stdout",
     "output_type": "stream",
     "text": [
      "https://data.nbn.org.uk/api/search/taxa?q=/Volucella bombylans\n",
      "['NBNSYS0000007094', 'NBNSYS0000172195', 'NBNSYS0000041862', 'NBNSYS0000030238', 'NBNSYS0100022836', 'NBNSYS0100026711', 'NBNSYS0100022843', 'NBNSYS0000007095', 'NBNSYS0100022840', 'NBNSYS0000159014', 'NBNSYS0000007098', 'NBNSYS0100005981', 'NBNSYS0000007096', 'NBNSYS0000007097', 'NBNSYS0000159015', 'NBNSYS0100022837', 'NBNSYS0100022322']\n",
      "https://data.nbn.org.uk/api/taxonObservations?ptvk=NBNSYS0000007094&ptvk=NBNSYS0000172195&ptvk=NBNSYS0000041862&ptvk=NBNSYS0000030238&ptvk=NBNSYS0100022836&ptvk=NBNSYS0100026711&ptvk=NBNSYS0100022843&ptvk=NBNSYS0000007095&ptvk=NBNSYS0100022840&ptvk=NBNSYS0000159014&ptvk=NBNSYS0000007098&ptvk=NBNSYS0100005981&ptvk=NBNSYS0000007096&ptvk=NBNSYS0000007097&ptvk=NBNSYS0000159015&ptvk=NBNSYS0100022837&ptvk=NBNSYS0100022322&datasetKey=SGB00001&startYear=1990&endYear=1990\n",
      "1048\n"
     ]
    }
   ],
   "source": [
    "#'Volucella bombylans\n",
    "sp = c.get_tvk(query='Volucella bombylans') #get species with 'Bombus' in...\n",
    "keys = []\n",
    "for res in sp['results']:\n",
    "    k = res['taxonVersionKey']\n",
    "    keys.append(str(k)) #get their keys....\n",
    "print keys\n",
    "obs = c.get_observations(tvks=keys, start_year=1990, end_year=1990) #get observations\n",
    "print len(obs)"
   ]
  },
  {
   "cell_type": "code",
   "execution_count": 23,
   "metadata": {
    "collapsed": false
   },
   "outputs": [
    {
     "data": {
      "text/plain": [
       "0"
      ]
     },
     "execution_count": 23,
     "metadata": {},
     "output_type": "execute_result"
    }
   ],
   "source": [
    "len(obs)"
   ]
  },
  {
   "cell_type": "code",
   "execution_count": null,
   "metadata": {
    "collapsed": false
   },
   "outputs": [],
   "source": [
    "len(obs)"
   ]
  },
  {
   "cell_type": "code",
   "execution_count": null,
   "metadata": {
    "collapsed": true
   },
   "outputs": [],
   "source": []
  }
 ],
 "metadata": {
  "kernelspec": {
   "display_name": "Python 2",
   "language": "python",
   "name": "python2"
  },
  "language_info": {
   "codemirror_mode": {
    "name": "ipython",
    "version": 2
   },
   "file_extension": ".py",
   "mimetype": "text/x-python",
   "name": "python",
   "nbconvert_exporter": "python",
   "pygments_lexer": "ipython2",
   "version": "2.7.11"
  }
 },
 "nbformat": 4,
 "nbformat_minor": 0
}
